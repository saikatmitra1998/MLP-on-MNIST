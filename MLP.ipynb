{
 "cells": [
  {
   "cell_type": "code",
   "execution_count": 3,
   "metadata": {
    "id": "cOO6qi2cjYTI",
    "pycharm": {
     "name": "#%%\n"
    }
   },
   "outputs": [],
   "source": [
    "import tensorflow as tf\n",
    "import numpy as np\n",
    "from matplotlib import pyplot as plt\n",
    "from datasets import MNISTDataset"
   ]
  },
  {
   "cell_type": "code",
   "execution_count": 4,
   "metadata": {
    "colab": {
     "base_uri": "https://localhost:8080/",
     "height": 336
    },
    "id": "Jp1YQ0ERjhWA",
    "outputId": "a9956159-9937-45ca-c56b-1f81dcd7aaa1",
    "pycharm": {
     "name": "#%%\n"
    }
   },
   "outputs": [
    {
     "name": "stdout",
     "output_type": "stream",
     "text": [
      "Downloading data from https://storage.googleapis.com/tensorflow/tf-keras-datasets/mnist.npz\n",
      "11490434/11490434 [==============================] - 0s 0us/step\n"
     ]
    },
    {
     "data": {
      "image/png": "[encoded data removed]",
      "text/plain": [
       "<Figure size 432x288 with 1 Axes>"
      ]
     },
     "metadata": {
      "needs_background": "light"
     },
     "output_type": "display_data"
    },
    {
     "name": "stdout",
     "output_type": "stream",
     "text": [
      "6\n",
      "(28, 28)\n"
     ]
    }
   ],
   "source": [
    "# mnist is a api or link to MNIST dataset - keras.api._v2.keras.datasets.mnist\n",
    "mnist = tf.keras.datasets.mnist\n",
    "(train_images, train_labels), (test_images, test_labels) = mnist.load_data() #Splitting the dataset into training & Testing set\n",
    "\n",
    "# we can look at any of the images and the corresponding labels\n",
    "# say, image no. 155\n",
    "plt.imshow(train_images[155], cmap=\"Greys_r\")\n",
    "plt.show()\n",
    "print(train_labels[155])\n",
    "train_images.reshape(-1,2)\n",
    "# images are \"flattened\" into vectors to avoid heavy memory usage\n",
    "data = MNISTDataset(train_images.reshape([-1, 28*28]), train_labels, \n",
    "                    test_images.reshape([-1, 28*28]), test_labels,\n",
    "                    batch_size=128)\n",
    "print(train_images[155].shape)"
   ]
  },
  {
   "cell_type": "code",
   "execution_count": 5,
   "metadata": {
    "colab": {
     "base_uri": "https://localhost:8080/",
     "height": 324
    },
    "id": "_y6U9BC-ermh",
    "outputId": "52dc8c53-5558-4f29-a05a-41a253fe3de5",
    "pycharm": {
     "name": "#%%\n"
    }
   },
   "outputs": [
    {
     "data": {
      "image/png": "[encoded data removed]",
      "text/plain": [
       "<Figure size 1224x360 with 1 Axes>"
      ]
     },
     "metadata": {
      "needs_background": "light"
     },
     "output_type": "display_data"
    }
   ],
   "source": [
    "# here is an attempt at illustrating what flattening looks like\n",
    "reshaped = train_images[155].reshape((-1, 28*28))\n",
    "plt.figure(figsize=(17, 5))\n",
    "plt.pcolormesh(reshaped, cmap=\"Greys_r\")\n",
    "plt.show()"
   ]
  },
  {
   "cell_type": "code",
   "execution_count": 6,
   "metadata": {
    "colab": {
     "base_uri": "https://localhost:8080/"
    },
    "id": "wYv32fO0iBSQ",
    "outputId": "32b30d12-a1c9-4a42-d73e-6c05a6cb8b45"
   },
   "outputs": [
    {
     "name": "stdout",
     "output_type": "stream",
     "text": [
      "(60000, 28, 28) (60000,)\n"
     ]
    }
   ],
   "source": [
    "print(train_images.shape, train_labels.shape)"
   ]
  },
  {
   "cell_type": "code",
   "execution_count": 7,
   "metadata": {
    "id": "1e-xm7xnjoAB",
    "pycharm": {
     "name": "#%%\n"
    }
   },
   "outputs": [],
   "source": [
    "# Weights and bias initialization\n",
    "w0 = tf.Variable(np.random.uniform(size=(784,256), low=-0.1, high=0.1).astype(np.float32))\n",
    "b0 = tf.Variable(np.random.uniform(size = 256, low=-0.1, high=0.1).astype(np.float32))\n",
    "w1 = tf.Variable(np.random.uniform(size =(256,256), low=-0.1, high=0.1).astype(np.float32))\n",
    "b1 = tf.Variable(np.random.uniform(size = 256, low=-0.1, high=0.1).astype(np.float32))\n",
    "out_w = tf.Variable(np.random.uniform(size =(256,10), low=-0.1, high=0.1).astype(np.float32))\n",
    "out_b = tf.Variable(np.random.uniform(size = 10, low=-0.1, high=0.1).astype(np.float32))\n",
    "\n",
    "# Using Activation function RELU to overcome Vanishing Gradient Problem \n",
    "def model(inputs):\n",
    "  # Input Layer \n",
    "  layer_1 = tf.add(tf.matmul(inputs, w0), b0) \n",
    "  layer_1 = tf.nn.relu(layer_1)\n",
    "  # Hidden Layer \n",
    "  layer_2 = tf.add(tf.matmul(layer_1, w1), b1)\n",
    "  layer_2 = tf.nn.relu(layer_2)\n",
    "  # Output Layer\n",
    "  out_layer = tf.matmul(layer_2, out_w) + out_b\n",
    "  return out_layer\n",
    "    \n",
    "train_steps = 4000\n",
    "learning_rate = 0.1"
   ]
  },
  {
   "cell_type": "code",
   "execution_count": 8,
   "metadata": {
    "colab": {
     "base_uri": "https://localhost:8080/"
    },
    "id": "NWwZsraTj2fx",
    "outputId": "f95e695c-0820-41b6-8cd9-161efffc1ba4",
    "pycharm": {
     "name": "#%%\n"
    }
   },
   "outputs": [
    {
     "name": "stdout",
     "output_type": "stream",
     "text": [
      "Step 1. Batch loss: 2.362889289855957 Batch accuracy: 0.109375\n",
      "Step 101. Batch loss: 0.4171752333641052 Batch accuracy: 0.875\n",
      "Step 201. Batch loss: 0.33697962760925293 Batch accuracy: 0.8828125\n",
      "Step 301. Batch loss: 0.3130910396575928 Batch accuracy: 0.90625\n",
      "Step 401. Batch loss: 0.38504934310913086 Batch accuracy: 0.8984375\n",
      "Starting new epoch...\n",
      "Step 501. Batch loss: 0.2060939371585846 Batch accuracy: 0.9375\n",
      "Step 601. Batch loss: 0.25789332389831543 Batch accuracy: 0.8984375\n",
      "Step 701. Batch loss: 0.21993699669837952 Batch accuracy: 0.9375\n",
      "Step 801. Batch loss: 0.169215589761734 Batch accuracy: 0.9375\n",
      "Step 901. Batch loss: 0.12731610238552094 Batch accuracy: 0.96875\n",
      "Starting new epoch...\n",
      "Step 1001. Batch loss: 0.1967979371547699 Batch accuracy: 0.9296875\n",
      "Step 1101. Batch loss: 0.15904714167118073 Batch accuracy: 0.9453125\n",
      "Step 1201. Batch loss: 0.08880007266998291 Batch accuracy: 0.9921875\n",
      "Step 1301. Batch loss: 0.16642117500305176 Batch accuracy: 0.9609375\n",
      "Step 1401. Batch loss: 0.13835923373699188 Batch accuracy: 0.9453125\n",
      "Starting new epoch...\n",
      "Step 1501. Batch loss: 0.09086063504219055 Batch accuracy: 0.96875\n",
      "Step 1601. Batch loss: 0.1544000506401062 Batch accuracy: 0.96875\n",
      "Step 1701. Batch loss: 0.03611808642745018 Batch accuracy: 1.0\n",
      "Step 1801. Batch loss: 0.10005995631217957 Batch accuracy: 0.96875\n",
      "Starting new epoch...\n",
      "Step 1901. Batch loss: 0.10181432962417603 Batch accuracy: 0.9765625\n",
      "Step 2001. Batch loss: 0.07926083356142044 Batch accuracy: 0.984375\n",
      "Step 2101. Batch loss: 0.04364977031946182 Batch accuracy: 0.9921875\n",
      "Step 2201. Batch loss: 0.11246578395366669 Batch accuracy: 0.96875\n",
      "Step 2301. Batch loss: 0.1508982926607132 Batch accuracy: 0.953125\n",
      "Starting new epoch...\n",
      "Step 2401. Batch loss: 0.0807056725025177 Batch accuracy: 0.9765625\n",
      "Step 2501. Batch loss: 0.10071609169244766 Batch accuracy: 0.9765625\n",
      "Step 2601. Batch loss: 0.06722572445869446 Batch accuracy: 0.984375\n",
      "Step 2701. Batch loss: 0.12871922552585602 Batch accuracy: 0.984375\n",
      "Step 2801. Batch loss: 0.049575209617614746 Batch accuracy: 0.9921875\n",
      "Starting new epoch...\n",
      "Step 2901. Batch loss: 0.04669035226106644 Batch accuracy: 0.9765625\n",
      "Step 3001. Batch loss: 0.06071247160434723 Batch accuracy: 0.9765625\n",
      "Step 3101. Batch loss: 0.08823451399803162 Batch accuracy: 0.984375\n",
      "Step 3201. Batch loss: 0.11569982767105103 Batch accuracy: 0.984375\n",
      "Starting new epoch...\n",
      "Step 3301. Batch loss: 0.022575370967388153 Batch accuracy: 1.0\n",
      "Step 3401. Batch loss: 0.05006036534905434 Batch accuracy: 0.984375\n",
      "Step 3501. Batch loss: 0.04484641179442406 Batch accuracy: 0.9921875\n",
      "Step 3601. Batch loss: 0.04107224568724632 Batch accuracy: 0.9921875\n",
      "Step 3701. Batch loss: 0.10655175894498825 Batch accuracy: 0.9765625\n",
      "Starting new epoch...\n",
      "Step 3801. Batch loss: 0.03949796408414841 Batch accuracy: 0.9921875\n",
      "Step 3901. Batch loss: 0.03863219544291496 Batch accuracy: 0.984375\n",
      "Step 4001. Batch loss: 0.052775200456380844 Batch accuracy: 0.984375\n"
     ]
    }
   ],
   "source": [
    "# training loop\n",
    "for step in range(train_steps+1):\n",
    "    image_batch, label_batch = data.next_batch()\n",
    "    \n",
    "    with tf.GradientTape() as tape:\n",
    "      logits = model(image_batch)\n",
    "\n",
    "      xent = tf.reduce_mean(tf.nn.sparse_softmax_cross_entropy_with_logits(\n",
    "            logits=logits, labels=label_batch))\n",
    "         \n",
    "      grads = tape.gradient(xent, [w0, b0, w1, b1, out_w, out_b])\n",
    "\n",
    "      w0.assign_sub(learning_rate * grads[0])\n",
    "      b0.assign_sub(learning_rate * grads[1])\n",
    "      w1.assign_sub(learning_rate * grads[2])\n",
    "      b1.assign_sub(learning_rate * grads[3])\n",
    "      out_w.assign_sub(learning_rate * grads[4])\n",
    "      out_b.assign_sub(learning_rate * grads[5])\n",
    "    \n",
    "    # every so often we print loss/accuracy\n",
    "    if not step % 100:\n",
    "        preds = tf.argmax(logits, axis=1, output_type=tf.int32)\n",
    "        acc = tf.reduce_mean(tf.cast(tf.equal(preds, label_batch),\n",
    "                             tf.float32))\n",
    "        print(\"Step {}. Batch loss: {} Batch accuracy: {}\".format(step+1, xent, acc))\n"
   ]
  },
  {
   "cell_type": "code",
   "execution_count": 9,
   "metadata": {
    "colab": {
     "base_uri": "https://localhost:8080/"
    },
    "id": "pGSRvdL5j6iz",
    "outputId": "1eacb12c-7634-4bc1-9d48-e1017dc2ae2e",
    "pycharm": {
     "name": "#%%\n"
    }
   },
   "outputs": [
    {
     "name": "stdout",
     "output_type": "stream",
     "text": [
      "Test accuracy: 0.974399983882904\n"
     ]
    }
   ],
   "source": [
    "test_preds = tf.argmax(model(data.test_data), axis=1,\n",
    "                       output_type=tf.int32)\n",
    "acc = tf.reduce_mean(tf.cast(tf.equal(test_preds, data.test_labels),\n",
    "                             tf.float32))\n",
    "print(\"Test accuracy: {}\".format(acc))"
   ]
  },
  {
   "cell_type": "markdown",
   "metadata": {
    "id": "9S-CfXjGirVT"
   },
   "source": [
    "#Observations\n",
    "\n",
    "1. When learning rate is changed from **0.1** to **0.01** then Accruracy is changed from **96.87** to **90.89**, because with lower learning rate model converges slowly.\n",
    "\n",
    "2. When we train the model with more training steps(EPOCH), the test accuracy is increased."
   ]
  }
 ],
 "metadata": {
  "colab": {
   "collapsed_sections": [],
   "provenance": []
  },
  "kernelspec": {
   "display_name": "Python 3 (ipykernel)",
   "language": "python",
   "name": "python3"
  },
  "language_info": {
   "codemirror_mode": {
    "name": "ipython",
    "version": 3
   },
   "file_extension": ".py",
   "mimetype": "text/x-python",
   "name": "python",
   "nbconvert_exporter": "python",
   "pygments_lexer": "ipython3",
   "version": "3.9.7"
  }
 },
 "nbformat": 4,
 "nbformat_minor": 1
}
